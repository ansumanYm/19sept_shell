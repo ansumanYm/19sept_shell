{
 "cells": [
  {
   "cell_type": "markdown",
   "id": "b1255f3e",
   "metadata": {},
   "source": [
    "## ZIP Fuction"
   ]
  },
  {
   "cell_type": "code",
   "execution_count": 1,
   "id": "4d5b6c9e",
   "metadata": {},
   "outputs": [],
   "source": [
    "list1 = [1,2,3,4]\n",
    "list2 = ['Java', 'Python', 'Cpp', 'Csharp']\n",
    "\n",
    "result = zip(list1,list2)"
   ]
  },
  {
   "cell_type": "code",
   "execution_count": 3,
   "id": "bc075aaf",
   "metadata": {},
   "outputs": [
    {
     "name": "stdout",
     "output_type": "stream",
     "text": [
      "[(1, 'Java'), (2, 'Python'), (3, 'Cpp'), (4, 'Csharp')]\n"
     ]
    }
   ],
   "source": [
    "print(list(result))"
   ]
  },
  {
   "cell_type": "code",
   "execution_count": 4,
   "id": "286e3235",
   "metadata": {},
   "outputs": [],
   "source": [
    "data = {'Name':['Tom','nick','krish','alyal','maya'],'Age':[20,25,30,35,15]}"
   ]
  },
  {
   "cell_type": "code",
   "execution_count": 11,
   "id": "33102ffb",
   "metadata": {},
   "outputs": [
    {
     "ename": "NameError",
     "evalue": "name 'data' is not defined",
     "output_type": "error",
     "traceback": [
      "\u001b[0;31m---------------------------------------------------------------------------\u001b[0m",
      "\u001b[0;31mNameError\u001b[0m                                 Traceback (most recent call last)",
      "Cell \u001b[0;32mIn[11], line 2\u001b[0m\n\u001b[1;32m      1\u001b[0m \u001b[38;5;28;01mimport\u001b[39;00m \u001b[38;5;21;01mpandas\u001b[39;00m \u001b[38;5;28;01mas\u001b[39;00m \u001b[38;5;21;01mpd\u001b[39;00m\n\u001b[0;32m----> 2\u001b[0m dfEmp \u001b[38;5;241m=\u001b[39m pd\u001b[38;5;241m.\u001b[39mDataFrame(data)\n\u001b[1;32m      3\u001b[0m \u001b[38;5;28mprint\u001b[39m(dfEmp)\n",
      "\u001b[0;31mNameError\u001b[0m: name 'data' is not defined"
     ]
    }
   ],
   "source": [
    "import pandas as pd\n",
    "dfEmp = pd.DataFrame(data)\n",
    "print(dfEmp)"
   ]
  },
  {
   "cell_type": "code",
   "execution_count": 7,
   "id": "c392ed33",
   "metadata": {},
   "outputs": [],
   "source": [
    "alyalseries = pd.Series(dfEmp['Age'])"
   ]
  },
  {
   "cell_type": "code",
   "execution_count": 8,
   "id": "1f8c69cc",
   "metadata": {},
   "outputs": [
    {
     "data": {
      "text/plain": [
       "0    20\n",
       "1    25\n",
       "2    30\n",
       "3    35\n",
       "4    15\n",
       "Name: Age, dtype: int64"
      ]
     },
     "execution_count": 8,
     "metadata": {},
     "output_type": "execute_result"
    }
   ],
   "source": [
    "alyalseries"
   ]
  },
  {
   "cell_type": "code",
   "execution_count": 10,
   "id": "2d37940b",
   "metadata": {},
   "outputs": [
    {
     "data": {
      "text/html": [
       "<div>\n",
       "<style scoped>\n",
       "    .dataframe tbody tr th:only-of-type {\n",
       "        vertical-align: middle;\n",
       "    }\n",
       "\n",
       "    .dataframe tbody tr th {\n",
       "        vertical-align: top;\n",
       "    }\n",
       "\n",
       "    .dataframe thead th {\n",
       "        text-align: right;\n",
       "    }\n",
       "</style>\n",
       "<table border=\"1\" class=\"dataframe\">\n",
       "  <thead>\n",
       "    <tr style=\"text-align: right;\">\n",
       "      <th></th>\n",
       "      <th>Name</th>\n",
       "      <th>Age</th>\n",
       "    </tr>\n",
       "  </thead>\n",
       "  <tbody>\n",
       "    <tr>\n",
       "      <th>0</th>\n",
       "      <td>Tom</td>\n",
       "      <td>20</td>\n",
       "    </tr>\n",
       "    <tr>\n",
       "      <th>1</th>\n",
       "      <td>nick</td>\n",
       "      <td>25</td>\n",
       "    </tr>\n",
       "    <tr>\n",
       "      <th>2</th>\n",
       "      <td>krish</td>\n",
       "      <td>30</td>\n",
       "    </tr>\n",
       "    <tr>\n",
       "      <th>3</th>\n",
       "      <td>alyal</td>\n",
       "      <td>35</td>\n",
       "    </tr>\n",
       "    <tr>\n",
       "      <th>4</th>\n",
       "      <td>maya</td>\n",
       "      <td>15</td>\n",
       "    </tr>\n",
       "  </tbody>\n",
       "</table>\n",
       "</div>"
      ],
      "text/plain": [
       "    Name  Age\n",
       "0    Tom   20\n",
       "1   nick   25\n",
       "2  krish   30\n",
       "3  alyal   35\n",
       "4   maya   15"
      ]
     },
     "metadata": {},
     "output_type": "display_data"
    }
   ],
   "source": [
    "display(dfEmp)"
   ]
  },
  {
   "cell_type": "code",
   "execution_count": 13,
   "id": "bd58657c",
   "metadata": {},
   "outputs": [],
   "source": [
    "result = alyalseries.apply(lambda x : 21 if x ==35 else x)"
   ]
  },
  {
   "cell_type": "code",
   "execution_count": 14,
   "id": "de00e4bc",
   "metadata": {},
   "outputs": [
    {
     "data": {
      "text/plain": [
       "0    20\n",
       "1    25\n",
       "2    30\n",
       "3    21\n",
       "4    15\n",
       "Name: Age, dtype: int64"
      ]
     },
     "execution_count": 14,
     "metadata": {},
     "output_type": "execute_result"
    }
   ],
   "source": [
    "result"
   ]
  },
  {
   "cell_type": "markdown",
   "id": "b9e6cf44",
   "metadata": {},
   "source": [
    "# Numpy Arrays"
   ]
  },
  {
   "cell_type": "code",
   "execution_count": null,
   "id": "c303b5ef",
   "metadata": {},
   "outputs": [],
   "source": [
    "# Array creation functions\n",
    "#np.array(), np.zeros(),np.ones(),np.empty()"
   ]
  },
  {
   "cell_type": "code",
   "execution_count": 15,
   "id": "beb0846f",
   "metadata": {},
   "outputs": [],
   "source": [
    "import numpy as np"
   ]
  },
  {
   "cell_type": "code",
   "execution_count": 17,
   "id": "ee9ce5d8",
   "metadata": {},
   "outputs": [
    {
     "name": "stdout",
     "output_type": "stream",
     "text": [
      "np.array():\n",
      " [1 2 4]\n"
     ]
    }
   ],
   "source": [
    "# Create an array using np.array()\n",
    "array1 = np.array([1,2,4])\n",
    "print(\"np.array():\\n\",array1)"
   ]
  },
  {
   "cell_type": "code",
   "execution_count": 18,
   "id": "c1ca4d41",
   "metadata": {},
   "outputs": [
    {
     "data": {
      "text/plain": [
       "array([3, 4, 5])"
      ]
     },
     "execution_count": 18,
     "metadata": {},
     "output_type": "execute_result"
    }
   ],
   "source": [
    "array2 = np.array([3,4,5])\n",
    "array2"
   ]
  },
  {
   "cell_type": "code",
   "execution_count": 19,
   "id": "0e686d26",
   "metadata": {},
   "outputs": [],
   "source": [
    "array3 = np.zeros((3,3))"
   ]
  },
  {
   "cell_type": "code",
   "execution_count": 20,
   "id": "9dc9f7e9",
   "metadata": {},
   "outputs": [
    {
     "data": {
      "text/plain": [
       "array([[0., 0., 0.],\n",
       "       [0., 0., 0.],\n",
       "       [0., 0., 0.]])"
      ]
     },
     "execution_count": 20,
     "metadata": {},
     "output_type": "execute_result"
    }
   ],
   "source": [
    "array3"
   ]
  },
  {
   "cell_type": "code",
   "execution_count": 30,
   "id": "bad1bd65",
   "metadata": {},
   "outputs": [],
   "source": [
    "array4 = np.random.rand(3,4)"
   ]
  },
  {
   "cell_type": "code",
   "execution_count": 33,
   "id": "cb6270ce",
   "metadata": {},
   "outputs": [
    {
     "data": {
      "text/plain": [
       "array([[0.52650495, 3.42338421, 1.8868968 , 9.20497202],\n",
       "       [3.69798947, 3.49563074, 0.11109076, 0.23204989],\n",
       "       [0.60735869, 0.73717479, 3.19722729, 4.92224203]])"
      ]
     },
     "metadata": {},
     "output_type": "display_data"
    }
   ],
   "source": [
    "display(array4*10)"
   ]
  },
  {
   "cell_type": "code",
   "execution_count": 37,
   "id": "d98c2c03",
   "metadata": {},
   "outputs": [],
   "source": [
    "array1 = np.array([2,3,5,6,73,2])"
   ]
  },
  {
   "cell_type": "code",
   "execution_count": 38,
   "id": "ce6de39b",
   "metadata": {},
   "outputs": [],
   "source": [
    "array2 = np.reshape(array1,(2,3))"
   ]
  },
  {
   "cell_type": "code",
   "execution_count": 39,
   "id": "dd30dc12",
   "metadata": {},
   "outputs": [
    {
     "data": {
      "text/plain": [
       "array([[ 2,  3,  5],\n",
       "       [ 6, 73,  2]])"
      ]
     },
     "execution_count": 39,
     "metadata": {},
     "output_type": "execute_result"
    }
   ],
   "source": [
    "array2"
   ]
  },
  {
   "cell_type": "code",
   "execution_count": 40,
   "id": "5ed9e682",
   "metadata": {},
   "outputs": [],
   "source": [
    "array3 = np.transpose(array2)"
   ]
  },
  {
   "cell_type": "code",
   "execution_count": 41,
   "id": "813ba474",
   "metadata": {},
   "outputs": [
    {
     "data": {
      "text/plain": [
       "array([[ 2,  6],\n",
       "       [ 3, 73],\n",
       "       [ 5,  2]])"
      ]
     },
     "execution_count": 41,
     "metadata": {},
     "output_type": "execute_result"
    }
   ],
   "source": [
    "array3"
   ]
  },
  {
   "cell_type": "markdown",
   "id": "2ab79d0a",
   "metadata": {},
   "source": [
    "# Array Input and Output Functions"
   ]
  },
  {
   "cell_type": "code",
   "execution_count": 42,
   "id": "8959adb6",
   "metadata": {},
   "outputs": [],
   "source": [
    "# Create an array\n",
    "array1 = np.array([[1,2,3],[2,3,4]])"
   ]
  },
  {
   "cell_type": "code",
   "execution_count": 43,
   "id": "8e0e57cf",
   "metadata": {},
   "outputs": [],
   "source": [
    "# save the array to a text file\n",
    "np.savetxt('data.txt', array1)"
   ]
  },
  {
   "cell_type": "code",
   "execution_count": 44,
   "id": "90f3cb69",
   "metadata": {},
   "outputs": [],
   "source": [
    "array2 = np.loadtxt('data.txt')"
   ]
  },
  {
   "cell_type": "code",
   "execution_count": 46,
   "id": "7e4cd3cd",
   "metadata": {},
   "outputs": [
    {
     "data": {
      "text/plain": [
       "array([[1, 2, 3],\n",
       "       [2, 3, 4]])"
      ]
     },
     "execution_count": 46,
     "metadata": {},
     "output_type": "execute_result"
    }
   ],
   "source": [
    "array1"
   ]
  },
  {
   "cell_type": "code",
   "execution_count": 47,
   "id": "c440e6ed",
   "metadata": {},
   "outputs": [
    {
     "data": {
      "text/plain": [
       "array([[1., 2., 3.],\n",
       "       [2., 3., 4.]])"
      ]
     },
     "execution_count": 47,
     "metadata": {},
     "output_type": "execute_result"
    }
   ],
   "source": [
    "array2"
   ]
  },
  {
   "cell_type": "code",
   "execution_count": 12,
   "id": "3c0f00e7",
   "metadata": {},
   "outputs": [],
   "source": [
    "from sklearn import datasets"
   ]
  },
  {
   "cell_type": "code",
   "execution_count": 13,
   "id": "f4a69ab8",
   "metadata": {},
   "outputs": [],
   "source": [
    "iris = datasets.load_iris()\n"
   ]
  },
  {
   "cell_type": "code",
   "execution_count": 14,
   "id": "a760abe3",
   "metadata": {},
   "outputs": [],
   "source": [
    "iris_df=pd.DataFrame(iris.data)\n",
    "iris_df['class']=iris.target\n",
    "\n",
    "iris_df.columns=['sepal_len', 'sepal_wid', 'petal_len', 'petal_wid', 'class']"
   ]
  },
  {
   "cell_type": "code",
   "execution_count": 15,
   "id": "4a3318d4",
   "metadata": {},
   "outputs": [
    {
     "data": {
      "text/html": [
       "<div>\n",
       "<style scoped>\n",
       "    .dataframe tbody tr th:only-of-type {\n",
       "        vertical-align: middle;\n",
       "    }\n",
       "\n",
       "    .dataframe tbody tr th {\n",
       "        vertical-align: top;\n",
       "    }\n",
       "\n",
       "    .dataframe thead th {\n",
       "        text-align: right;\n",
       "    }\n",
       "</style>\n",
       "<table border=\"1\" class=\"dataframe\">\n",
       "  <thead>\n",
       "    <tr style=\"text-align: right;\">\n",
       "      <th></th>\n",
       "      <th>sepal_len</th>\n",
       "      <th>sepal_wid</th>\n",
       "      <th>petal_len</th>\n",
       "      <th>petal_wid</th>\n",
       "      <th>class</th>\n",
       "    </tr>\n",
       "  </thead>\n",
       "  <tbody>\n",
       "    <tr>\n",
       "      <th>0</th>\n",
       "      <td>5.1</td>\n",
       "      <td>3.5</td>\n",
       "      <td>1.4</td>\n",
       "      <td>0.2</td>\n",
       "      <td>0</td>\n",
       "    </tr>\n",
       "    <tr>\n",
       "      <th>1</th>\n",
       "      <td>4.9</td>\n",
       "      <td>3.0</td>\n",
       "      <td>1.4</td>\n",
       "      <td>0.2</td>\n",
       "      <td>0</td>\n",
       "    </tr>\n",
       "    <tr>\n",
       "      <th>2</th>\n",
       "      <td>4.7</td>\n",
       "      <td>3.2</td>\n",
       "      <td>1.3</td>\n",
       "      <td>0.2</td>\n",
       "      <td>0</td>\n",
       "    </tr>\n",
       "    <tr>\n",
       "      <th>3</th>\n",
       "      <td>4.6</td>\n",
       "      <td>3.1</td>\n",
       "      <td>1.5</td>\n",
       "      <td>0.2</td>\n",
       "      <td>0</td>\n",
       "    </tr>\n",
       "    <tr>\n",
       "      <th>4</th>\n",
       "      <td>5.0</td>\n",
       "      <td>3.6</td>\n",
       "      <td>1.4</td>\n",
       "      <td>0.2</td>\n",
       "      <td>0</td>\n",
       "    </tr>\n",
       "    <tr>\n",
       "      <th>...</th>\n",
       "      <td>...</td>\n",
       "      <td>...</td>\n",
       "      <td>...</td>\n",
       "      <td>...</td>\n",
       "      <td>...</td>\n",
       "    </tr>\n",
       "    <tr>\n",
       "      <th>145</th>\n",
       "      <td>6.7</td>\n",
       "      <td>3.0</td>\n",
       "      <td>5.2</td>\n",
       "      <td>2.3</td>\n",
       "      <td>2</td>\n",
       "    </tr>\n",
       "    <tr>\n",
       "      <th>146</th>\n",
       "      <td>6.3</td>\n",
       "      <td>2.5</td>\n",
       "      <td>5.0</td>\n",
       "      <td>1.9</td>\n",
       "      <td>2</td>\n",
       "    </tr>\n",
       "    <tr>\n",
       "      <th>147</th>\n",
       "      <td>6.5</td>\n",
       "      <td>3.0</td>\n",
       "      <td>5.2</td>\n",
       "      <td>2.0</td>\n",
       "      <td>2</td>\n",
       "    </tr>\n",
       "    <tr>\n",
       "      <th>148</th>\n",
       "      <td>6.2</td>\n",
       "      <td>3.4</td>\n",
       "      <td>5.4</td>\n",
       "      <td>2.3</td>\n",
       "      <td>2</td>\n",
       "    </tr>\n",
       "    <tr>\n",
       "      <th>149</th>\n",
       "      <td>5.9</td>\n",
       "      <td>3.0</td>\n",
       "      <td>5.1</td>\n",
       "      <td>1.8</td>\n",
       "      <td>2</td>\n",
       "    </tr>\n",
       "  </tbody>\n",
       "</table>\n",
       "<p>150 rows × 5 columns</p>\n",
       "</div>"
      ],
      "text/plain": [
       "     sepal_len  sepal_wid  petal_len  petal_wid  class\n",
       "0          5.1        3.5        1.4        0.2      0\n",
       "1          4.9        3.0        1.4        0.2      0\n",
       "2          4.7        3.2        1.3        0.2      0\n",
       "3          4.6        3.1        1.5        0.2      0\n",
       "4          5.0        3.6        1.4        0.2      0\n",
       "..         ...        ...        ...        ...    ...\n",
       "145        6.7        3.0        5.2        2.3      2\n",
       "146        6.3        2.5        5.0        1.9      2\n",
       "147        6.5        3.0        5.2        2.0      2\n",
       "148        6.2        3.4        5.4        2.3      2\n",
       "149        5.9        3.0        5.1        1.8      2\n",
       "\n",
       "[150 rows x 5 columns]"
      ]
     },
     "execution_count": 15,
     "metadata": {},
     "output_type": "execute_result"
    }
   ],
   "source": [
    "iris_df"
   ]
  },
  {
   "cell_type": "markdown",
   "id": "83ab9192",
   "metadata": {},
   "source": [
    "# SciPy Package:-\n",
    "- Helps to perform mathematical operations for faster results."
   ]
  },
  {
   "cell_type": "markdown",
   "id": "ead5e925",
   "metadata": {},
   "source": [
    "2x + y = 5\n",
    " and 4y - 5x = 7\n",
    "Solve this"
   ]
  },
  {
   "cell_type": "code",
   "execution_count": 55,
   "id": "1df0fa0e",
   "metadata": {},
   "outputs": [],
   "source": [
    "a = np.array([[2,1], [-5,4]])\n",
    "b = np.array([[5], [7]])\n",
    "\n",
    "from scipy import linalg\n",
    "x= linalg.solve(a, b)"
   ]
  },
  {
   "cell_type": "code",
   "execution_count": 56,
   "id": "ed40803e",
   "metadata": {},
   "outputs": [
    {
     "data": {
      "text/plain": [
       "array([[1.],\n",
       "       [3.]])"
      ]
     },
     "execution_count": 56,
     "metadata": {},
     "output_type": "execute_result"
    }
   ],
   "source": [
    "x"
   ]
  },
  {
   "cell_type": "code",
   "execution_count": 57,
   "id": "36f54799",
   "metadata": {},
   "outputs": [
    {
     "data": {
      "text/plain": [
       "array([[0.],\n",
       "       [0.]])"
      ]
     },
     "execution_count": 57,
     "metadata": {},
     "output_type": "execute_result"
    }
   ],
   "source": [
    "# To check result is correct or not\n",
    "a.dot(x)-b"
   ]
  },
  {
   "cell_type": "code",
   "execution_count": null,
   "id": "54a642b0",
   "metadata": {},
   "outputs": [],
   "source": []
  },
  {
   "cell_type": "markdown",
   "id": "17241d33",
   "metadata": {},
   "source": [
    "##### Solve \n",
    "2x +y=5\n",
    "x-3y = -2"
   ]
  },
  {
   "cell_type": "code",
   "execution_count": 62,
   "id": "9afaf8cd",
   "metadata": {},
   "outputs": [],
   "source": [
    "a = np.array([[2,1],[1,-3]])\n",
    "b= np.array([[5],[-2]])\n",
    "\n",
    "x= linalg.solve(a, b)"
   ]
  },
  {
   "cell_type": "code",
   "execution_count": 63,
   "id": "6a21b326",
   "metadata": {},
   "outputs": [
    {
     "data": {
      "text/plain": [
       "array([[1.85714286],\n",
       "       [1.28571429]])"
      ]
     },
     "execution_count": 63,
     "metadata": {},
     "output_type": "execute_result"
    }
   ],
   "source": [
    "x"
   ]
  },
  {
   "cell_type": "code",
   "execution_count": 64,
   "id": "595a6bd6",
   "metadata": {},
   "outputs": [
    {
     "data": {
      "text/plain": [
       "array([[ 0.0000000e+00],\n",
       "       [-4.4408921e-16]])"
      ]
     },
     "execution_count": 64,
     "metadata": {},
     "output_type": "execute_result"
    }
   ],
   "source": [
    "# To check result is correct or not\n",
    "a.dot(x)-b"
   ]
  },
  {
   "cell_type": "markdown",
   "id": "0644593d",
   "metadata": {},
   "source": [
    "##### Solve\n",
    "2x + 5y - 4z = 0\n",
    "5x - 8y - 6z = 5\n",
    "x + 2y - 3z = 9"
   ]
  },
  {
   "cell_type": "code",
   "execution_count": 65,
   "id": "da7e78d3",
   "metadata": {},
   "outputs": [],
   "source": [
    "a = np.array([[2,5,-4],[5,-8,-6],[5,2,-3]])\n",
    "b = np.array([[0],[5],[9]])\n",
    "\n",
    "ans= linalg.solve(a, b)"
   ]
  },
  {
   "cell_type": "code",
   "execution_count": 66,
   "id": "3afa26da",
   "metadata": {},
   "outputs": [
    {
     "data": {
      "text/plain": [
       "array([[2.57635468],\n",
       "       [0.00985222],\n",
       "       [1.30049261]])"
      ]
     },
     "execution_count": 66,
     "metadata": {},
     "output_type": "execute_result"
    }
   ],
   "source": [
    "ans"
   ]
  },
  {
   "cell_type": "code",
   "execution_count": 67,
   "id": "a177dd99",
   "metadata": {},
   "outputs": [
    {
     "data": {
      "text/plain": [
       "array([[0.],\n",
       "       [0.],\n",
       "       [0.]])"
      ]
     },
     "execution_count": 67,
     "metadata": {},
     "output_type": "execute_result"
    }
   ],
   "source": [
    "# To check result is correct or not\n",
    "a.dot(ans)-b"
   ]
  },
  {
   "cell_type": "markdown",
   "id": "a0643deb",
   "metadata": {},
   "source": [
    "# ML USING SKLEARN"
   ]
  },
  {
   "cell_type": "code",
   "execution_count": 5,
   "id": "cec26437",
   "metadata": {},
   "outputs": [
    {
     "name": "stdout",
     "output_type": "stream",
     "text": [
      "[1]\n"
     ]
    }
   ],
   "source": [
    "from sklearn import tree\n",
    "\n",
    "Bumpy = 1\n",
    "Smooth = 0\n",
    "Orange = 0\n",
    "Apple = 1\n",
    "\n",
    "feature = [[140, Bumpy], [130, Bumpy], [150, Smooth], [170, Smooth]]\n",
    "\n",
    "lable = [Orange, Orange, Apple, Apple]\n",
    "\n",
    "model = tree.DecisionTreeClassifier()\n",
    "model = model.fit(feature, lable)\n",
    "\n",
    "print((model.predict([[160, Smooth]])))"
   ]
  },
  {
   "cell_type": "code",
   "execution_count": null,
   "id": "83dd2b7c",
   "metadata": {},
   "outputs": [],
   "source": []
  },
  {
   "cell_type": "code",
   "execution_count": 16,
   "id": "aaec4c5a",
   "metadata": {},
   "outputs": [
    {
     "data": {
      "text/html": [
       "<div>\n",
       "<style scoped>\n",
       "    .dataframe tbody tr th:only-of-type {\n",
       "        vertical-align: middle;\n",
       "    }\n",
       "\n",
       "    .dataframe tbody tr th {\n",
       "        vertical-align: top;\n",
       "    }\n",
       "\n",
       "    .dataframe thead th {\n",
       "        text-align: right;\n",
       "    }\n",
       "</style>\n",
       "<table border=\"1\" class=\"dataframe\">\n",
       "  <thead>\n",
       "    <tr style=\"text-align: right;\">\n",
       "      <th></th>\n",
       "      <th>sepal_len</th>\n",
       "      <th>sepal_wid</th>\n",
       "      <th>petal_len</th>\n",
       "      <th>petal_wid</th>\n",
       "      <th>class</th>\n",
       "    </tr>\n",
       "  </thead>\n",
       "  <tbody>\n",
       "    <tr>\n",
       "      <th>0</th>\n",
       "      <td>5.1</td>\n",
       "      <td>3.5</td>\n",
       "      <td>1.4</td>\n",
       "      <td>0.2</td>\n",
       "      <td>0</td>\n",
       "    </tr>\n",
       "    <tr>\n",
       "      <th>1</th>\n",
       "      <td>4.9</td>\n",
       "      <td>3.0</td>\n",
       "      <td>1.4</td>\n",
       "      <td>0.2</td>\n",
       "      <td>0</td>\n",
       "    </tr>\n",
       "    <tr>\n",
       "      <th>2</th>\n",
       "      <td>4.7</td>\n",
       "      <td>3.2</td>\n",
       "      <td>1.3</td>\n",
       "      <td>0.2</td>\n",
       "      <td>0</td>\n",
       "    </tr>\n",
       "    <tr>\n",
       "      <th>3</th>\n",
       "      <td>4.6</td>\n",
       "      <td>3.1</td>\n",
       "      <td>1.5</td>\n",
       "      <td>0.2</td>\n",
       "      <td>0</td>\n",
       "    </tr>\n",
       "    <tr>\n",
       "      <th>4</th>\n",
       "      <td>5.0</td>\n",
       "      <td>3.6</td>\n",
       "      <td>1.4</td>\n",
       "      <td>0.2</td>\n",
       "      <td>0</td>\n",
       "    </tr>\n",
       "    <tr>\n",
       "      <th>...</th>\n",
       "      <td>...</td>\n",
       "      <td>...</td>\n",
       "      <td>...</td>\n",
       "      <td>...</td>\n",
       "      <td>...</td>\n",
       "    </tr>\n",
       "    <tr>\n",
       "      <th>145</th>\n",
       "      <td>6.7</td>\n",
       "      <td>3.0</td>\n",
       "      <td>5.2</td>\n",
       "      <td>2.3</td>\n",
       "      <td>2</td>\n",
       "    </tr>\n",
       "    <tr>\n",
       "      <th>146</th>\n",
       "      <td>6.3</td>\n",
       "      <td>2.5</td>\n",
       "      <td>5.0</td>\n",
       "      <td>1.9</td>\n",
       "      <td>2</td>\n",
       "    </tr>\n",
       "    <tr>\n",
       "      <th>147</th>\n",
       "      <td>6.5</td>\n",
       "      <td>3.0</td>\n",
       "      <td>5.2</td>\n",
       "      <td>2.0</td>\n",
       "      <td>2</td>\n",
       "    </tr>\n",
       "    <tr>\n",
       "      <th>148</th>\n",
       "      <td>6.2</td>\n",
       "      <td>3.4</td>\n",
       "      <td>5.4</td>\n",
       "      <td>2.3</td>\n",
       "      <td>2</td>\n",
       "    </tr>\n",
       "    <tr>\n",
       "      <th>149</th>\n",
       "      <td>5.9</td>\n",
       "      <td>3.0</td>\n",
       "      <td>5.1</td>\n",
       "      <td>1.8</td>\n",
       "      <td>2</td>\n",
       "    </tr>\n",
       "  </tbody>\n",
       "</table>\n",
       "<p>150 rows × 5 columns</p>\n",
       "</div>"
      ],
      "text/plain": [
       "     sepal_len  sepal_wid  petal_len  petal_wid  class\n",
       "0          5.1        3.5        1.4        0.2      0\n",
       "1          4.9        3.0        1.4        0.2      0\n",
       "2          4.7        3.2        1.3        0.2      0\n",
       "3          4.6        3.1        1.5        0.2      0\n",
       "4          5.0        3.6        1.4        0.2      0\n",
       "..         ...        ...        ...        ...    ...\n",
       "145        6.7        3.0        5.2        2.3      2\n",
       "146        6.3        2.5        5.0        1.9      2\n",
       "147        6.5        3.0        5.2        2.0      2\n",
       "148        6.2        3.4        5.4        2.3      2\n",
       "149        5.9        3.0        5.1        1.8      2\n",
       "\n",
       "[150 rows x 5 columns]"
      ]
     },
     "execution_count": 16,
     "metadata": {},
     "output_type": "execute_result"
    }
   ],
   "source": [
    "iris_df"
   ]
  },
  {
   "cell_type": "code",
   "execution_count": 25,
   "id": "abadc0ff",
   "metadata": {},
   "outputs": [
    {
     "data": {
      "text/plain": [
       "array([0, 0, 0, 0, 0, 0, 0, 0, 0, 0, 0, 0, 0, 0, 0, 0, 0, 0, 0, 0, 0, 0,\n",
       "       0, 0, 0, 0, 0, 0, 0, 0, 0, 0, 0, 0, 0, 0, 0, 0, 0, 0, 0, 0, 0, 0,\n",
       "       0, 0, 0, 0, 0, 0, 1, 1, 1, 1, 1, 1, 1, 1, 1, 1, 1, 1, 1, 1, 1, 1,\n",
       "       1, 1, 1, 1, 1, 1, 1, 1, 1, 1, 1, 1, 1, 1, 1, 1, 1, 1, 1, 1, 1, 1,\n",
       "       1, 1, 1, 1, 1, 1, 1, 1, 1, 1, 1, 1, 2, 2, 2, 2, 2, 2, 2, 2, 2, 2,\n",
       "       2, 2, 2, 2, 2, 2, 2, 2, 2, 2, 2, 2, 2, 2, 2, 2, 2, 2, 2, 2, 2, 2,\n",
       "       2, 2, 2, 2, 2, 2, 2, 2, 2, 2, 2, 2, 2, 2, 2, 2, 2, 2])"
      ]
     },
     "execution_count": 25,
     "metadata": {},
     "output_type": "execute_result"
    }
   ],
   "source": [
    "iris_df['class'].values"
   ]
  },
  {
   "cell_type": "code",
   "execution_count": 26,
   "id": "9fe76c86",
   "metadata": {},
   "outputs": [],
   "source": [
    "data = iris_df.values\n",
    "X = data[:, 0:4]\n",
    "Y = data[:, 4]"
   ]
  },
  {
   "cell_type": "code",
   "execution_count": 27,
   "id": "18efb95b",
   "metadata": {},
   "outputs": [],
   "source": [
    "# Split the data to train and test dataset.\n",
    "from sklearn.model_selection import train_test_split\n",
    "X_train, X_test, y_train, y_test = train_test_split(X, Y, test_size=0.2)"
   ]
  },
  {
   "cell_type": "code",
   "execution_count": 29,
   "id": "5285459f",
   "metadata": {},
   "outputs": [],
   "source": [
    "model = tree.DecisionTreeClassifier()\n",
    "model = model.fit(X_train, y_train)"
   ]
  },
  {
   "cell_type": "code",
   "execution_count": 30,
   "id": "257b4fe6",
   "metadata": {},
   "outputs": [
    {
     "data": {
      "text/plain": [
       "0.9666666666666667"
      ]
     },
     "execution_count": 30,
     "metadata": {},
     "output_type": "execute_result"
    }
   ],
   "source": [
    "# Predict from the test dataset\n",
    "predictions = model.predict(X_test)\n",
    "# Calculate the accuracy\n",
    "from sklearn.metrics import accuracy_score\n",
    "accuracy_score(y_test, predictions)"
   ]
  },
  {
   "cell_type": "code",
   "execution_count": 32,
   "id": "c2e30efe",
   "metadata": {},
   "outputs": [],
   "source": [
    "pred = model.predict([[6.7, 3.0, 5.2, 2.3]])"
   ]
  },
  {
   "cell_type": "code",
   "execution_count": 33,
   "id": "8fd86e9f",
   "metadata": {},
   "outputs": [
    {
     "data": {
      "text/plain": [
       "array([2.])"
      ]
     },
     "execution_count": 33,
     "metadata": {},
     "output_type": "execute_result"
    }
   ],
   "source": [
    "pred"
   ]
  },
  {
   "cell_type": "code",
   "execution_count": null,
   "id": "79dbf20d",
   "metadata": {},
   "outputs": [],
   "source": []
  }
 ],
 "metadata": {
  "kernelspec": {
   "display_name": "Python 3 (ipykernel)",
   "language": "python",
   "name": "python3"
  },
  "language_info": {
   "codemirror_mode": {
    "name": "ipython",
    "version": 3
   },
   "file_extension": ".py",
   "mimetype": "text/x-python",
   "name": "python",
   "nbconvert_exporter": "python",
   "pygments_lexer": "ipython3",
   "version": "3.11.4"
  }
 },
 "nbformat": 4,
 "nbformat_minor": 5
}
